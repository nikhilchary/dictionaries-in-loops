{
 "cells": [
  {
   "cell_type": "code",
   "execution_count": 1,
   "metadata": {},
   "outputs": [
    {
     "name": "stdout",
     "output_type": "stream",
     "text": [
      "enter your frends name:nikhil\n",
      "you have 3 frends\n",
      "nikhil age is 35\n"
     ]
    }
   ],
   "source": [
    "a={'nikhil': '35', 'ram': '21', 'will': '1991'}\n",
    "name=input('enter your frends name:')\n",
    "print('you have',len(a),'frends')\n",
    "print(name, \"age is\",a[name])"
   ]
  },
  {
   "cell_type": "markdown",
   "metadata": {},
   "source": [
    "Improve the program that you wrote for exercise 6.3 using a dictionary : • The new program should loop after each name has been dealt with, and exit if the user just hits <return> with no name. It should print a message on exit. • The program should handle names that are not in the database cleanly by issuing a message and asking for another name "
   ]
  },
  {
   "cell_type": "code",
   "execution_count": 2,
   "metadata": {},
   "outputs": [
    {
     "name": "stdout",
     "output_type": "stream",
     "text": [
      "enter friend:nikhil\n",
      "nikhil age is 35\n"
     ]
    }
   ],
   "source": [
    "Names={'nikhil': '35', 'ram': '21', 'Mamatha': '1991'}\n",
    "\n",
    "name=input('enter friend:')\n",
    "\n",
    "if name in Names:\n",
    "    print(name, \"age is\",Names[name])\n",
    "else:\n",
    "    print(\"NoSuchName\")\n"
   ]
  },
  {
   "cell_type": "code",
   "execution_count": 3,
   "metadata": {},
   "outputs": [
    {
     "name": "stdout",
     "output_type": "stream",
     "text": [
      "enter friend:ramu\n",
      "NoSuchName\n"
     ]
    }
   ],
   "source": [
    "Names={'nikhil': '35', 'ram': '21', 'Mamatha': '1991'}\n",
    "\n",
    "name=input('enter friend:')\n",
    "\n",
    "if name in Names:\n",
    "    print(name, \"age is\",Names[name])\n",
    "else:\n",
    "    print(\"NoSuchName\")"
   ]
  },
  {
   "cell_type": "markdown",
   "metadata": {},
   "source": [
    "Write a program to list some integers, their squares and their cubes. Read the start value, the \n",
    "Page 38 of 63 \n",
    "end value and the increment from the command line. Try to do this with just one input. Use a for loop and the range() function. Test your program starting at 2 and ending at 10 with an increment of 2."
   ]
  },
  {
   "cell_type": "code",
   "execution_count": 2,
   "metadata": {},
   "outputs": [
    {
     "name": "stdout",
     "output_type": "stream",
     "text": [
      "enter the start value:2\n",
      "enter the stop value:10\n",
      "enter the increment value:2\n",
      "number   square    cube\n",
      "2   4    8\n",
      "4   16    64\n",
      "6   36    216\n",
      "8   64    512\n"
     ]
    }
   ],
   "source": [
    "x=int(input('enter the start value:'))\n",
    "y=int(input('enter the stop value:'))\n",
    "z=int(input('enter the increment value:'))\n",
    "print(\"number\",\" \", \"square\",\"  \",  \"cube\")\n",
    "for number in range(x,y,z):\n",
    "    print(number,\" \", number**2,\"  \",   number*number**2)\n"
   ]
  },
  {
   "cell_type": "markdown",
   "metadata": {},
   "source": [
    "• Make it loop until exit is requested by the user hitting <Return> only. • Allow the Stop and Increment parameters to be optional. We indicate this using square brackets in the prompt. Supply defaults for when they are not entered"
   ]
  },
  {
   "cell_type": "code",
   "execution_count": 6,
   "metadata": {},
   "outputs": [
    {
     "name": "stdout",
     "output_type": "stream",
     "text": [
      "enter the start value:1\n",
      "enter the stop value:1\n",
      "enter the increment value:1\n",
      "number   square    cube\n",
      "exit loop\n"
     ]
    }
   ],
   "source": [
    "\n",
    "x=int(input('enter the start value:'))\n",
    "y=int(input('enter the stop value:'))\n",
    "z=int(input('enter the increment value:'))\n",
    "print(\"number\",\" \", \"square\",\"  \",  \"cube\")\n",
    "\n",
    "for number in range(x,y,z) :\n",
    "    print(number,\" \", number**2,\"  \",   number*number**2)\n",
    "    if number in range(1):\n",
    "            break\n",
    "print(\"exit loop\")\n",
    "            \n",
    "   \n",
    "    \n",
    "        "
   ]
  },
  {
   "cell_type": "code",
   "execution_count": null,
   "metadata": {},
   "outputs": [],
   "source": []
  },
  {
   "cell_type": "code",
   "execution_count": null,
   "metadata": {},
   "outputs": [],
   "source": []
  }
 ],
 "metadata": {
  "kernelspec": {
   "display_name": "Python 3",
   "language": "python",
   "name": "python3"
  }
 },
 "nbformat": 4,
 "nbformat_minor": 2
}
